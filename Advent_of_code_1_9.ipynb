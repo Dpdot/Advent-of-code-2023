{
  "nbformat": 4,
  "nbformat_minor": 0,
  "metadata": {
    "colab": {
      "provenance": [],
      "toc_visible": true
    },
    "kernelspec": {
      "name": "python3",
      "display_name": "Python 3"
    },
    "language_info": {
      "name": "python"
    }
  },
  "cells": [
    {
      "cell_type": "code",
      "execution_count": null,
      "metadata": {
        "id": "iebaWF7rdHV2"
      },
      "outputs": [],
      "source": [
        "!pip install aocd"
      ]
    },
    {
      "cell_type": "code",
      "source": [
        "from aocd import get_data\n",
        "import pandas as pd\n",
        "import numpy as np\n",
        "import string \n",
        "from heapq import nlargest\n",
        "import re"
      ],
      "metadata": {
        "id": "7xjyICQaj7fy"
      },
      "execution_count": null,
      "outputs": []
    },
    {
      "cell_type": "code",
      "source": [
        "%env AOC_SESSION=53616c7465645f5f6ec8e214c14f4aa53ec75eafe853edc1fcb4bb92604405c64ac00bd0bf896983a834905f70c23a9febd161b135f2e59a1b5ce282c68f01e8"
      ],
      "metadata": {
        "id": "pAmzWQjuhmO9"
      },
      "execution_count": null,
      "outputs": []
    },
    {
      "cell_type": "markdown",
      "source": [
        "DAY-1"
      ],
      "metadata": {
        "id": "DXK030glOibl"
      }
    },
    {
      "cell_type": "code",
      "source": [
        "data_raw = get_data(day=1, year=2022)"
      ],
      "metadata": {
        "id": "kkS9WpwidqEt"
      },
      "execution_count": null,
      "outputs": []
    },
    {
      "cell_type": "code",
      "source": [
        "data = data_raw.splitlines()\n",
        "v_data = np.array(data)"
      ],
      "metadata": {
        "id": "1fGjiO3yjuzN"
      },
      "execution_count": null,
      "outputs": []
    },
    {
      "cell_type": "code",
      "source": [
        "counter = 0\n",
        "response = []\n",
        "for x in v_data:\n",
        "  if x == \"\":\n",
        "    response.append(counter)\n",
        "    counter = 0\n",
        "  else:\n",
        "    x = int(x)\n",
        "    counter += x"
      ],
      "metadata": {
        "id": "CuR6EaROlk-F"
      },
      "execution_count": null,
      "outputs": []
    },
    {
      "cell_type": "code",
      "source": [
        "sum(nlargest(3,response))"
      ],
      "metadata": {
        "colab": {
          "base_uri": "https://localhost:8080/"
        },
        "id": "mByQImnocQ7K",
        "outputId": "25951180-f82a-49fa-91ce-dffef5e6ea85"
      },
      "execution_count": null,
      "outputs": [
        {
          "output_type": "execute_result",
          "data": {
            "text/plain": [
              "199357"
            ]
          },
          "metadata": {},
          "execution_count": 21
        }
      ]
    },
    {
      "cell_type": "markdown",
      "source": [
        "DAY-2"
      ],
      "metadata": {
        "id": "5iFafXKpOgFP"
      }
    },
    {
      "cell_type": "code",
      "source": [
        "data_raw_2 = get_data(day=2, year=2022)"
      ],
      "metadata": {
        "id": "TEHjtJP_6HTK"
      },
      "execution_count": null,
      "outputs": []
    },
    {
      "cell_type": "code",
      "source": [
        "data = data_raw_2.splitlines()"
      ],
      "metadata": {
        "id": "uBeVe9tK6V0A"
      },
      "execution_count": null,
      "outputs": []
    },
    {
      "cell_type": "code",
      "source": [
        "f_data = pd.DataFrame(data)\n"
      ],
      "metadata": {
        "id": "obvC-vAH6n6k"
      },
      "execution_count": null,
      "outputs": []
    },
    {
      "cell_type": "code",
      "source": [
        "df_data = pd.DataFrame(f_data[0].str.split(' ', 1, expand=True))"
      ],
      "metadata": {
        "id": "SHS35HvF-ILk"
      },
      "execution_count": null,
      "outputs": []
    },
    {
      "cell_type": "code",
      "source": [
        "response = []\n",
        "mapping = {\n",
        "    ('A', 'X'): 3 + 1,\n",
        "    ('A', 'Y'): 6 + 2,\n",
        "    ('A', 'Z'): 0 + 3,\n",
        "    ('B', 'X'): 0 + 1,\n",
        "    ('B', 'Y'): 3 + 2,\n",
        "    ('B', 'Z'): 6 + 3,\n",
        "    ('C', 'X'): 6 + 1,\n",
        "    ('C', 'Y'): 0 + 2,\n",
        "    ('C', 'Z'): 3 + 3\n",
        "}\n",
        "\n",
        "for x in range(2500):\n",
        "    key = (df_data[0][x], df_data[1][x])\n",
        "    if key in mapping:\n",
        "        response.append(mapping[key])\n"
      ],
      "metadata": {
        "id": "SJVA3TJ9_bvP"
      },
      "execution_count": null,
      "outputs": []
    },
    {
      "cell_type": "code",
      "source": [
        "response_2 = []\n",
        "mapping_2 = {\n",
        "    'A': {\n",
        "        'X': 3,\n",
        "        'Y': 4,\n",
        "        'Z': 8\n",
        "    },\n",
        "    'B': {\n",
        "        'X': 1,\n",
        "        'Y': 5,\n",
        "        'Z': 9\n",
        "    },\n",
        "    'C': {\n",
        "        'X': 2,\n",
        "        'Y': 6,\n",
        "        'Z': 7\n",
        "    }\n",
        "}\n",
        "\n",
        "for x in range(2500):\n",
        "    key = (df_data[0][x], df_data[1][x])\n",
        "    if key in mapping_2:\n",
        "        response2.append(mapping[key])\n",
        "\n",
        "      "
      ],
      "metadata": {
        "id": "_8ZJec9HEgmU"
      },
      "execution_count": null,
      "outputs": []
    },
    {
      "cell_type": "code",
      "source": [
        "sum(response_2)"
      ],
      "metadata": {
        "id": "W0J10MsRE9xk"
      },
      "execution_count": null,
      "outputs": []
    },
    {
      "cell_type": "markdown",
      "source": [
        "DAY-2"
      ],
      "metadata": {
        "id": "hUcULxwsOcqO"
      }
    },
    {
      "cell_type": "code",
      "source": [
        "data_raw_3 = get_data(day=3, year=2022)"
      ],
      "metadata": {
        "id": "3IRBviNoxlxe"
      },
      "execution_count": null,
      "outputs": []
    },
    {
      "cell_type": "code",
      "source": [
        "data = data_raw_3.splitlines()\n",
        "v_data = np.array(data)"
      ],
      "metadata": {
        "id": "Y832w6g4xs1A"
      },
      "execution_count": null,
      "outputs": []
    },
    {
      "cell_type": "code",
      "source": [
        "duplicate = []\n",
        "for x in data :\n",
        "  n = int(len(x)/2)\n",
        "  compare_1 = [*x[0:n]]\n",
        "  compare_2 = [*x[n:len(x)]]\n",
        "  duplicate.append(set(compare_1) & set(compare_2))\n"
      ],
      "metadata": {
        "id": "dXCIK0--y5JC"
      },
      "execution_count": null,
      "outputs": []
    },
    {
      "cell_type": "code",
      "source": [
        "char = pd.DataFrame(\n",
        "    {\n",
        "    \"key\": [*string.ascii_lowercase[:26],*string.ascii_uppercase[:26]],\n",
        "     \"value\": np.r_[1:53]\n",
        "    }\n",
        ")\n"
      ],
      "metadata": {
        "id": "tuKQLZXG44Ba"
      },
      "execution_count": null,
      "outputs": []
    },
    {
      "cell_type": "code",
      "source": [
        "dup_df = pd.DataFrame(duplicate)\n",
        "result = pd.merge(dup_df, char, left_on=0, right_on=\"key\")\n"
      ],
      "metadata": {
        "id": "fxr1ponfByP5"
      },
      "execution_count": null,
      "outputs": []
    },
    {
      "cell_type": "code",
      "source": [
        "sum(result['value'])"
      ],
      "metadata": {
        "colab": {
          "base_uri": "https://localhost:8080/"
        },
        "id": "FkCLkxG3E2pO",
        "outputId": "0e321b96-5397-41f3-d001-7609e9730ea6"
      },
      "execution_count": null,
      "outputs": [
        {
          "output_type": "execute_result",
          "data": {
            "text/plain": [
              "7793"
            ]
          },
          "metadata": {},
          "execution_count": 107
        }
      ]
    },
    {
      "cell_type": "code",
      "source": [
        "badge = []\n",
        "for r in range(0,300,3):\n",
        "  badge.append(set(data[r]) & set(data[r+1]) & set(data[r+2]))\n",
        "\n",
        "bad_df = pd.DataFrame(badge)\n",
        "result_2 = pd.merge(bad_df, char, left_on=0, right_on=\"key\")\n",
        "\n",
        "sum(result_2['value'])"
      ],
      "metadata": {
        "colab": {
          "base_uri": "https://localhost:8080/"
        },
        "id": "-lWNI1RqJR_1",
        "outputId": "5769194f-245d-49b0-9c23-2a2b61e80b6a"
      },
      "execution_count": null,
      "outputs": [
        {
          "output_type": "execute_result",
          "data": {
            "text/plain": [
              "2499"
            ]
          },
          "metadata": {},
          "execution_count": 119
        }
      ]
    },
    {
      "cell_type": "markdown",
      "source": [
        "DAY - 4"
      ],
      "metadata": {
        "id": "EpXaxZD2OahO"
      }
    },
    {
      "cell_type": "code",
      "source": [
        "data_raw_4 = get_data(day=4, year=2022)"
      ],
      "metadata": {
        "id": "L5i1BoftEBSL"
      },
      "execution_count": null,
      "outputs": []
    },
    {
      "cell_type": "code",
      "source": [
        "data = data_raw_4.splitlines()\n"
      ],
      "metadata": {
        "id": "KyLcfm6BEi7u"
      },
      "execution_count": null,
      "outputs": []
    },
    {
      "cell_type": "code",
      "source": [
        "counter = 0\n",
        "for x in data:\n",
        "  split_data = x.split(\",\")\n",
        "  sep_data_1 = split_data[0].split(\"-\")\n",
        "  sep_data_2 = split_data[1].split(\"-\")\n",
        "\n",
        "  z = int(sep_data_1[0])\n",
        "  y = int(sep_data_1[1])+1\n",
        "  set_1 = set(np.r_[z:y])\n",
        "\n",
        "  c = int(sep_data_2[0])\n",
        "  v = int(sep_data_2[1])+1\n",
        "  set_2 = set(np.r_[c:v])\n",
        "\n",
        "  if (set_1.issubset(set_2)) or (set_2.issubset(set_1)):\n",
        "    counter += 1\n",
        "\n",
        "print(counter)"
      ],
      "metadata": {
        "colab": {
          "base_uri": "https://localhost:8080/"
        },
        "id": "7wD8g-SLHS3p",
        "outputId": "4a43de9f-4cca-4671-a8ad-30eea5c73117"
      },
      "execution_count": null,
      "outputs": [
        {
          "output_type": "stream",
          "name": "stdout",
          "text": [
            "305\n"
          ]
        }
      ]
    },
    {
      "cell_type": "code",
      "source": [
        "counter = 0\n",
        "for x in data:\n",
        "  split_data = x.split(\",\")\n",
        "  sep_data_1 = split_data[0].split(\"-\")\n",
        "  sep_data_2 = split_data[1].split(\"-\")\n",
        "\n",
        "  z = int(sep_data_1[0])\n",
        "  y = int(sep_data_1[1])+1\n",
        "  set_1 = set(np.r_[z:y])\n",
        "\n",
        "  c = int(sep_data_2[0])\n",
        "  v = int(sep_data_2[1])+1\n",
        "  set_2 = set(np.r_[c:v])\n",
        "\n",
        "  if (len(set_1.intersection(set_2)) > 0 ):\n",
        "    counter += 1\n",
        "\n",
        "print(counter)"
      ],
      "metadata": {
        "id": "mack_8LFTPSR"
      },
      "execution_count": null,
      "outputs": []
    },
    {
      "cell_type": "markdown",
      "source": [
        "DAY - 5"
      ],
      "metadata": {
        "id": "uR0vH1atuWvF"
      }
    },
    {
      "cell_type": "code",
      "source": [
        "data_raw_5 = get_data(day=5, year=2022)"
      ],
      "metadata": {
        "id": "Inx6g8bAT8po"
      },
      "execution_count": null,
      "outputs": []
    },
    {
      "cell_type": "code",
      "source": [
        "data = data_raw_5.splitlines()"
      ],
      "metadata": {
        "id": "SvL2TUSNVvzG"
      },
      "execution_count": null,
      "outputs": []
    },
    {
      "cell_type": "code",
      "source": [
        "org_tab = data[0:9]"
      ],
      "metadata": {
        "id": "tBtB6LnZdT9h"
      },
      "execution_count": null,
      "outputs": []
    },
    {
      "cell_type": "code",
      "source": [
        "set_col = []\n",
        "for y in np.r_[0:9]:\n",
        "  col = []\n",
        "  a = y*3+y\n",
        "  b = y*3+y+3\n",
        "  for x in org_tab[0:8]:\n",
        "    if x[a:b] != \"   \":\n",
        "      col.append(x[a:b])\n",
        "  set_col.append(col)\n"
      ],
      "metadata": {
        "id": "DNnofnqtjWdd"
      },
      "execution_count": null,
      "outputs": []
    },
    {
      "cell_type": "code",
      "source": [
        "ins_tab = data[10:513]"
      ],
      "metadata": {
        "id": "X-Ky2lSfuW7h"
      },
      "execution_count": null,
      "outputs": []
    },
    {
      "cell_type": "code",
      "source": [
        "set_ins = []\n",
        "for x in ins_tab:\n",
        " ins = [int(s) for s in re.findall(r'\\d+', x)]\n",
        " set_ins.append(ins)\n"
      ],
      "metadata": {
        "id": "GmxoG1t8uqIs"
      },
      "execution_count": null,
      "outputs": []
    },
    {
      "cell_type": "code",
      "source": [
        "print(set_ins[0])"
      ],
      "metadata": {
        "id": "pKXBmOUN7z36"
      },
      "execution_count": null,
      "outputs": []
    },
    {
      "cell_type": "code",
      "source": [
        "set_col = []\n",
        "for y in np.r_[0:9]:\n",
        "  col = []\n",
        "  a = y*3+y\n",
        "  b = y*3+y+3\n",
        "  for x in org_tab[0:8]:\n",
        "    if x[a:b] != \"   \":\n",
        "      col.append(x[a:b])\n",
        "  set_col.append(col)"
      ],
      "metadata": {
        "id": "gFP3G3FJxllL"
      },
      "execution_count": null,
      "outputs": []
    },
    {
      "cell_type": "code",
      "source": [
        "for i in set_col:\n",
        "  print(i)\n",
        "print(\"------------------------------------------------------------------------------\")\n",
        "\n",
        "for x in set_ins:\n",
        "  num = x[0]\n",
        "  tab1 = x[1]-1\n",
        "  tab2 = x[2]-1\n",
        "\n",
        "  trans = set_col[tab1][0:num]\n",
        "  trans.reverse()\n",
        "  del set_col[tab1][0:num]\n",
        "  old = set_col[tab2]\n",
        "  \n",
        "  set_col[tab2] = trans + old\n",
        "  \n",
        "for i in set_col:\n",
        "  print(i)"
      ],
      "metadata": {
        "id": "sh2tPDjj1kYR"
      },
      "execution_count": null,
      "outputs": []
    },
    {
      "cell_type": "code",
      "source": [
        "for i in set_col:\n",
        "  print(i)\n",
        "print(\"------------------------------------------------------------------------------\")\n",
        "\n",
        "for x in set_ins:\n",
        "  num = x[0]\n",
        "  tab1 = x[1]-1\n",
        "  tab2 = x[2]-1\n",
        "\n",
        "  trans = set_col[tab1][0:num]\n",
        "  del set_col[tab1][0:num]\n",
        "  old = set_col[tab2]\n",
        "  \n",
        "  set_col[tab2] = trans + old\n",
        "  \n",
        "for i in set_col:\n",
        "  print(i)"
      ],
      "metadata": {
        "id": "hN7AwExtDglx"
      },
      "execution_count": null,
      "outputs": []
    },
    {
      "cell_type": "markdown",
      "source": [
        "DAY - 6"
      ],
      "metadata": {
        "id": "4N7RiJQ3ufVi"
      }
    },
    {
      "cell_type": "code",
      "source": [
        "data_raw_6 = get_data(day=6, year=2022)"
      ],
      "metadata": {
        "id": "BjOzjtgSuiQj"
      },
      "execution_count": null,
      "outputs": []
    },
    {
      "cell_type": "code",
      "source": [
        "data = [*data_raw_6]"
      ],
      "metadata": {
        "id": "GBsKEqhduo47"
      },
      "execution_count": null,
      "outputs": []
    },
    {
      "cell_type": "code",
      "source": [
        "for i in np.r_[4:len(data)]:\n",
        "  kod = data[i-4:i]\n",
        "  dup = [number for number in kod if kod.count(number) > 1]\n",
        "  if len(dup) == 0:\n",
        "    print(i)\n",
        "    break"
      ],
      "metadata": {
        "colab": {
          "base_uri": "https://localhost:8080/"
        },
        "id": "wLGYqjFwvC8I",
        "outputId": "79ed3c27-341b-4ae2-d720-bc95e1822d55"
      },
      "execution_count": null,
      "outputs": [
        {
          "output_type": "stream",
          "name": "stdout",
          "text": [
            "1929\n"
          ]
        }
      ]
    },
    {
      "cell_type": "code",
      "source": [
        "for i in np.r_[14:len(data)]:\n",
        "  kod = data[i-14:i]\n",
        "  dup = [number for number in kod if kod.count(number) > 1]\n",
        "  if len(dup) == 0:\n",
        "    print(i)\n",
        "    break"
      ],
      "metadata": {
        "id": "ZwwxQW0F0tzG",
        "outputId": "dc05f71d-1110-4189-f167-040ca33ca00c",
        "colab": {
          "base_uri": "https://localhost:8080/"
        }
      },
      "execution_count": null,
      "outputs": [
        {
          "output_type": "stream",
          "name": "stdout",
          "text": [
            "3298\n"
          ]
        }
      ]
    },
    {
      "cell_type": "markdown",
      "source": [
        "DAY - 7"
      ],
      "metadata": {
        "id": "a_REnKxnxJui"
      }
    },
    {
      "cell_type": "code",
      "source": [
        "data_raw_7 = get_data(day=7, year=2022)"
      ],
      "metadata": {
        "id": "KtIKLztUxQM6"
      },
      "execution_count": null,
      "outputs": []
    },
    {
      "cell_type": "code",
      "source": [
        "data = data_raw_7.splitlines()"
      ],
      "metadata": {
        "id": "48G4GoQM0Biq"
      },
      "execution_count": null,
      "outputs": []
    },
    {
      "cell_type": "code",
      "source": [
        "local = []\n",
        "path = \"/home\"\n",
        "dirs = {\"/home\":0}\n",
        "\n",
        "\n",
        "for x in data:\n",
        "  words = x.split(\" \")\n",
        "  if words[0] == \"$\":\n",
        "    if words[1] == \"cd\":\n",
        "      if words[2] == \"..\":\n",
        "        path = path[:path.rfind(\"/\")]\n",
        "\n",
        "      elif words[2] == \"/\":\n",
        "        path = \"/home\"\n",
        "\n",
        "      else:\n",
        "        dir_name = words[2]\n",
        "        path = path + \"/\" + dir_name\n",
        "        dirs.update({path:0})\n",
        "    else:\n",
        "      pass\n",
        "\n",
        "  elif words[0] == \"dir\":\n",
        "    pass\n",
        "\n",
        "  else:\n",
        "    size = int(words[0])\n",
        "    dir = path\n",
        "    for i in range(path.count(\"/\")):\n",
        "      dirs[dir] += size\n",
        "      dir = dir[:dir.rfind(\"/\")]\n"
      ],
      "metadata": {
        "id": "cXw9-3D30_R7"
      },
      "execution_count": null,
      "outputs": []
    },
    {
      "cell_type": "code",
      "source": [
        "for dir in dirs:\n",
        "  print(dir, dirs[dir])"
      ],
      "metadata": {
        "id": "RkiupP_8UtLL"
      },
      "execution_count": null,
      "outputs": []
    },
    {
      "cell_type": "code",
      "source": [
        "counter = 0\n",
        "for dir in dirs:\n",
        "  if dirs[dir] <= 100000:\n",
        "    counter += dirs[dir]\n",
        "\n",
        "print(counter)"
      ],
      "metadata": {
        "colab": {
          "base_uri": "https://localhost:8080/"
        },
        "id": "i-3ltsnCQWUl",
        "outputId": "f768412d-24fd-48d4-81a6-508ee98f5663"
      },
      "execution_count": null,
      "outputs": [
        {
          "output_type": "stream",
          "name": "stdout",
          "text": [
            "1453349\n"
          ]
        }
      ]
    },
    {
      "cell_type": "code",
      "source": [
        "del_space = dirs[\"/home\"] - 40000000"
      ],
      "metadata": {
        "id": "pkT7mWjFUg7c"
      },
      "execution_count": null,
      "outputs": []
    },
    {
      "cell_type": "code",
      "source": [
        "answ = {}\n",
        "for dir in dirs:\n",
        "  if dirs[dir] >= del_space:\n",
        "    answ.update({dir:dirs[dir]})\n"
      ],
      "metadata": {
        "id": "JSuuT1EiUZxm"
      },
      "execution_count": null,
      "outputs": []
    },
    {
      "cell_type": "code",
      "source": [
        "print(min(answ, key=answ.get),min(answ.values()))"
      ],
      "metadata": {
        "id": "dRAzwfQnWwDM"
      },
      "execution_count": null,
      "outputs": []
    },
    {
      "cell_type": "markdown",
      "source": [
        "DAY - 8"
      ],
      "metadata": {
        "id": "DSkmT-FEYbyp"
      }
    },
    {
      "cell_type": "code",
      "source": [
        "data_raw_8 = get_data(day=8, year=2022)"
      ],
      "metadata": {
        "id": "ob1d0OuhYfmW"
      },
      "execution_count": null,
      "outputs": []
    },
    {
      "cell_type": "code",
      "source": [
        "data = data_raw_8.splitlines()\n"
      ],
      "metadata": {
        "id": "Zfnttiwp4a0L"
      },
      "execution_count": null,
      "outputs": []
    },
    {
      "cell_type": "code",
      "source": [
        "tree_mat = np.empty((99, 99))\n",
        "i = 0\n",
        "for row in data:\n",
        "  new_r = list(row)\n",
        "  int_r = [eval(i) for i in new_r]\n",
        "  tree_mat[i] = int_r\n",
        "  i += 1"
      ],
      "metadata": {
        "id": "4H-PMtZpRgxA"
      },
      "execution_count": null,
      "outputs": []
    },
    {
      "cell_type": "code",
      "source": [
        "l_x = len(data) - 1\n",
        "l_y = len(data[0]) - 1"
      ],
      "metadata": {
        "id": "FXTC-gW84dzq"
      },
      "execution_count": null,
      "outputs": []
    },
    {
      "cell_type": "code",
      "source": [
        "counter = 99 + 99 + 97 + 97\n",
        "for x in np.r_[1:l_x]:\n",
        "  for y in np.r_[1:l_y]:\n",
        "    h_tree = tree_mat[x][y]\n",
        "    l_s = tree_mat[x,0:y]\n",
        "    r_s = tree_mat[x,y+1:100]\n",
        "    u_s = tree_mat[0:x,y]\n",
        "    b_s = tree_mat[x+1:100,y]\n",
        "\n",
        "    test_l = h_tree > l_s\n",
        "    test_r = h_tree > r_s\n",
        "    test_u = h_tree > u_s\n",
        "    test_b = h_tree > b_s\n",
        "\n",
        "    res_l = np.prod(test_l*1)\n",
        "    res_r = np.prod(test_r*1)\n",
        "    res_u = np.prod(test_u*1)\n",
        "    res_b = np.prod(test_b*1)\n",
        "\n",
        "    res_t = (res_l + res_r + res_u + res_b) > 0\n",
        "\n",
        "    counter += res_t*1\n",
        "\n",
        "print(counter)\n",
        "\n",
        "    \n"
      ],
      "metadata": {
        "colab": {
          "base_uri": "https://localhost:8080/"
        },
        "id": "UA9qiMpyHTM2",
        "outputId": "c08e082a-027e-49e9-e487-9de318f6a371"
      },
      "execution_count": null,
      "outputs": [
        {
          "output_type": "stream",
          "name": "stdout",
          "text": [
            "1538\n"
          ]
        }
      ]
    },
    {
      "cell_type": "code",
      "source": [
        "dist = []\n",
        "for x in np.r_[1:l_x]:\n",
        "  for y in np.r_[1:l_y]:\n",
        "    h_tree = tree_mat[x][y]\n",
        "    l_s = tree_mat[x,0:y]\n",
        "    r_s = tree_mat[x,y+1:100]\n",
        "    u_s = tree_mat[0:x,y]\n",
        "    b_s = tree_mat[x+1:100,y]\n",
        "\n",
        "    test_l = h_tree > l_s\n",
        "    test_r = h_tree > r_s\n",
        "    test_u = h_tree > u_s\n",
        "    test_b = h_tree > b_s\n",
        "    \n",
        "    see_l = next((i+1 for i, z in enumerate(reversed(test_l)) if not z), len(test_l))\n",
        "    see_r = next((i+1 for i, z in enumerate(test_r) if not z), len(test_r))\n",
        "    see_u = next((i+1 for i, z in enumerate(reversed(test_u)) if not z), len(test_u))\n",
        "    see_b = next((i+1 for i, z in enumerate(test_b) if not z), len(test_b))\n",
        "\n",
        "    see_t = see_l*see_r*see_u*see_b\n",
        "\n",
        "    dist.append(see_t)\n",
        "\n",
        "    maximum = max(dist)\n",
        "\n",
        "    if see_t == maximum:\n",
        "      print(x,y)\n",
        "      print(see_l,see_r,see_u,see_b)\n",
        "\n",
        "print(max(dist))\n",
        "\n",
        "    \n"
      ],
      "metadata": {
        "colab": {
          "base_uri": "https://localhost:8080/"
        },
        "id": "Z4DLui3zJXsu",
        "outputId": "febfc1f5-7098-49df-eaa4-085c8e046479"
      },
      "execution_count": null,
      "outputs": [
        {
          "output_type": "stream",
          "name": "stdout",
          "text": [
            "496125\n"
          ]
        }
      ]
    },
    {
      "cell_type": "code",
      "source": [
        "maximum = max(dist)"
      ],
      "metadata": {
        "id": "qiF9hxrnXCDW"
      },
      "execution_count": null,
      "outputs": []
    },
    {
      "cell_type": "markdown",
      "source": [
        "DAY - 9 "
      ],
      "metadata": {
        "id": "Zdvh9_KQaODv"
      }
    },
    {
      "cell_type": "code",
      "source": [
        "data_raw_9 = get_data(day=9, year=2022)"
      ],
      "metadata": {
        "id": "2RHRk8XNaP5l"
      },
      "execution_count": null,
      "outputs": []
    },
    {
      "cell_type": "code",
      "source": [
        "data = data_raw_9.splitlines()"
      ],
      "metadata": {
        "id": "vjndA993akCO"
      },
      "execution_count": null,
      "outputs": []
    },
    {
      "cell_type": "code",
      "source": [
        "x = 0\n",
        "y = 0\n",
        "\n",
        "pos_h = [x,y]\n",
        "\n",
        "pos_t = [x,y]\n",
        "\n",
        "all_t_pos = []\n",
        "\n",
        "all_t_pos.append(pos_t[:])\n",
        "\n",
        "for ins in data:\n",
        "\n",
        "  p_ins = ins.split(\" \")\n",
        "\n",
        "  dir = p_ins[0]\n",
        "  lgh = int(p_ins[1])\n",
        "  old_pos_h = pos_h[:]\n",
        "  \n",
        "  if dir == \"L\":\n",
        "    x += -lgh\n",
        "\n",
        "  elif dir == \"R\":\n",
        "    x += lgh\n",
        "\n",
        "  elif dir == \"D\":\n",
        "    y += -lgh\n",
        "\n",
        "  elif dir == \"U\":\n",
        "    y += lgh\n",
        "\n",
        "  pos_h = [x,y]\n",
        "\n",
        "  dis_x = pos_h[0] - pos_t[0]\n",
        "  dis_y = pos_h[1] - pos_t[1]\n",
        "\n",
        "  z = (dis_x)**2 + (dis_y)**2\n",
        "  dis = np.sqrt(z)\n",
        "  dis_r = round(dis,0)\n",
        "\n",
        "  if dis_r > 1:\n",
        "    if dis - dis_r > 0:\n",
        "      pos_t[0] = pos_t[0] + dis_x/abs(dis_x)\n",
        "      pos_t[1] = pos_t[1] + dis_y/abs(dis_y)\n",
        "      dis_r += -1\n",
        "      all_t_pos.append(pos_t[:])\n",
        "\n",
        "    for i in np.r_[1:dis_r]: \n",
        "      if abs(dis_x) > abs(dis_y):\n",
        "         step = dis_x/abs(dis_x)\n",
        "         pos_t[0] = pos_t[0] + step\n",
        "         all_t_pos.append(pos_t[:])\n",
        "\n",
        "      elif abs(dis_y) > abs(dis_x):\n",
        "         step = dis_y/abs(dis_y)\n",
        "         pos_t[1] = pos_t[1] + step\n",
        "         all_t_pos.append(pos_t[:])\n",
        " "
      ],
      "metadata": {
        "id": "_v7QTL_bkE15"
      },
      "execution_count": null,
      "outputs": []
    },
    {
      "cell_type": "code",
      "source": [
        "all_t_uni = []\n",
        "\n",
        "for x in all_t_pos:\n",
        "\n",
        "  if x not in all_t_uni:\n",
        "    all_t_uni.append(x)\n"
      ],
      "metadata": {
        "id": "aN3jHH0YUIg5"
      },
      "execution_count": null,
      "outputs": []
    },
    {
      "cell_type": "code",
      "source": [
        "len(all_t_uni)"
      ],
      "metadata": {
        "colab": {
          "base_uri": "https://localhost:8080/"
        },
        "id": "tFnYV_icVW6A",
        "outputId": "c15b8673-d768-492a-a436-370360781287"
      },
      "execution_count": null,
      "outputs": [
        {
          "output_type": "execute_result",
          "data": {
            "text/plain": [
              "6037"
            ]
          },
          "metadata": {},
          "execution_count": 62
        }
      ]
    },
    {
      "cell_type": "code",
      "source": [
        "x = 0\n",
        "y = 0\n",
        "\n",
        "positions = [[x, y] for _ in range(9)]\n",
        "pos_h, pos_1, pos_2, pos_3, pos_4, pos_5, pos_6, pos_7, pos_8, pos_t = positions\n",
        "\n",
        "all_t_pos = []\n",
        "\n",
        "all_t_pos.append(pos_t[:])\n",
        "\n",
        "for ins in data:\n",
        "\n",
        "  p_ins = ins.split(\" \")\n",
        "\n",
        "  dir = p_ins[0]\n",
        "  lgh = int(p_ins[1])\n",
        "  old_pos_h = pos_h[:]\n",
        "  \n",
        "  if dir == \"L\":\n",
        "    x += -lgh\n",
        "\n",
        "  elif dir == \"R\":\n",
        "    x += lgh\n",
        "\n",
        "  elif dir == \"D\":\n",
        "    y += -lgh\n",
        "\n",
        "  elif dir == \"U\":\n",
        "    y += lgh\n",
        "\n",
        "  pos_h = [x,y]\n",
        "\n",
        "  print(\"1\",pos_h)\n",
        "\n",
        "#----------------------------------------------------------\n",
        "\n",
        "  dis_x = pos_h[0] - pos_1[0]\n",
        "  dis_y = pos_h[1] - pos_1[1]\n",
        "\n",
        "  z = (dis_x)**2 + (dis_y)**2\n",
        "  dis = np.sqrt(z)\n",
        "  dis_r = round(dis,0)\n",
        "\n",
        "  if dis_r > 1:\n",
        "    if dis - dis_r != 0:\n",
        "      pos_1[0] = pos_1[0] + dis_x/abs(dis_x)\n",
        "      pos_1[1] = pos_1[1] + dis_y/abs(dis_y)\n",
        "      dis_r += -1\n",
        "\n",
        "    for i in np.r_[1:dis_r]: \n",
        "      if abs(dis_x) > abs(dis_y):\n",
        "         step = dis_x/abs(dis_x)\n",
        "         pos_1[0] = pos_1[0] + step\n",
        "\n",
        "      elif abs(dis_y) > abs(dis_x):\n",
        "         step = dis_y/abs(dis_y)\n",
        "         pos_1[1] = pos_1[1] + step\n",
        "\n",
        "    print(\"2\",pos_1)\n",
        "\n",
        "  #----------------------------------------------------------\n",
        "\n",
        "    dis_x = pos_1[0] - pos_2[0]\n",
        "    dis_y = pos_1[1] - pos_2[1]\n",
        "\n",
        "    z = (dis_x)**2 + (dis_y)**2\n",
        "    dis = np.sqrt(z)\n",
        "    dis_r = round(dis,0)\n",
        "\n",
        "\n",
        "    if dis_r > 1:\n",
        "      if dis - dis_r != 0:\n",
        "        pos_2[0] = pos_2[0] + dis_x/abs(dis_x)\n",
        "        pos_2[1] = pos_2[1] + dis_y/abs(dis_y)\n",
        "        \n",
        "\n",
        "\n",
        "      for i in np.r_[1:dis_r]: \n",
        "        if abs(dis_x) > abs(dis_y):\n",
        "          step = dis_x/abs(dis_x)\n",
        "          pos_2[0] = pos_2[0] + step\n",
        "          \n",
        "\n",
        "\n",
        "        elif abs(dis_y) > abs(dis_x):\n",
        "          step = dis_y/abs(dis_y)\n",
        "          pos_2[1] = pos_2[1] + step\n",
        "          \n",
        "  \n",
        "      print(\"3\",pos_2)\n",
        "\n",
        "    #----------------------------------------------------------\n",
        "\n",
        "      dis_x = pos_2[0] - pos_3[0]\n",
        "      dis_y = pos_2[1] - pos_3[1]\n",
        "\n",
        "      z = (dis_x)**2 + (dis_y)**2\n",
        "      dis = np.sqrt(z)\n",
        "      dis_r = round(dis,0)\n",
        "\n",
        "      if dis_r > 1:\n",
        "        if dis - dis_r != 0:\n",
        "          pos_3[0] = pos_3[0] + dis_x/abs(dis_x)\n",
        "          pos_3[1] = pos_3[1] + dis_y/abs(dis_y)\n",
        "          dis_r += -1\n",
        "\n",
        "\n",
        "        for i in np.r_[1:dis_r]: \n",
        "          if abs(dis_x) > abs(dis_y):\n",
        "            step = dis_x/abs(dis_x)\n",
        "            pos_3[0] = pos_3[0] + step\n",
        "\n",
        "\n",
        "          elif abs(dis_y) > abs(dis_x):\n",
        "            step = dis_y/abs(dis_y)\n",
        "            pos_3[1] = pos_3[1] + step\n",
        "\n",
        "        print(\"4\",pos_3)\n",
        "\n",
        "      #----------------------------------------------------------\n",
        "\n",
        "        dis_x = pos_3[0] - pos_4[0]\n",
        "        dis_y = pos_3[1] - pos_4[1]\n",
        "\n",
        "        z = (dis_x)**2 + (dis_y)**2\n",
        "        dis = np.sqrt(z)\n",
        "        dis_r = round(dis,0)\n",
        "\n",
        "        if dis_r > 1:\n",
        "          if dis - dis_r != 0:\n",
        "            pos_4[0] = pos_4[0] + dis_x/abs(dis_x)\n",
        "            pos_4[1] = pos_4[1] + dis_y/abs(dis_y)\n",
        "            dis_r += -1\n",
        "\n",
        "\n",
        "          for i in np.r_[1:dis_r]: \n",
        "            if abs(dis_x) > abs(dis_y):\n",
        "              step = dis_x/abs(dis_x)\n",
        "              pos_4[0] = pos_4[0] + step\n",
        "\n",
        "\n",
        "            elif abs(dis_y) > abs(dis_x):\n",
        "              step = dis_y/abs(dis_y)\n",
        "              pos_4[1] = pos_4[1] + step\n",
        "\n",
        "          print(\"5\",pos_4)\n",
        "\n",
        "        #----------------------------------------------------------\n",
        "\n",
        "          dis_x = pos_4[0] - pos_5[0]\n",
        "          dis_y = pos_4[1] - pos_5[1]\n",
        "\n",
        "          z = (dis_x)**2 + (dis_y)**2\n",
        "          dis = np.sqrt(z)\n",
        "          dis_r = round(dis,0)\n",
        "\n",
        "          if dis_r > 1:\n",
        "            if dis - dis_r != 0:\n",
        "              pos_5[0] = pos_5[0] + dis_x/abs(dis_x)\n",
        "              pos_5[1] = pos_5[1] + dis_y/abs(dis_y)\n",
        "              dis_r += -1\n",
        "\n",
        "\n",
        "            for i in np.r_[1:dis_r]: \n",
        "              if abs(dis_x) > abs(dis_y):\n",
        "                step = dis_x/abs(dis_x)\n",
        "                pos_5[0] = pos_5[0] + step\n",
        "\n",
        "\n",
        "              elif abs(dis_y) > abs(dis_x):\n",
        "                step = dis_y/abs(dis_y)\n",
        "                pos_5[1] = pos_5[1] + step\n",
        "\n",
        "            print(\"6\",pos_5)\n",
        "\n",
        "          #----------------------------------------------------------\n",
        "\n",
        "            dis_x = pos_5[0] - pos_6[0]\n",
        "            dis_y = pos_5[1] - pos_6[1]\n",
        "\n",
        "            z = (dis_x)**2 + (dis_y)**2\n",
        "            dis = np.sqrt(z)\n",
        "            dis_r = round(dis,0)\n",
        "\n",
        "            if dis_r > 1:\n",
        "              if dis - dis_r != 0:\n",
        "                pos_6[0] = pos_6[0] + dis_x/abs(dis_x)\n",
        "                pos_6[1] = pos_6[1] + dis_y/abs(dis_y)\n",
        "                dis_r += -1\n",
        "\n",
        "\n",
        "              for i in np.r_[1:dis_r]: \n",
        "                if abs(dis_x) > abs(dis_y):\n",
        "                  step = dis_x/abs(dis_x)\n",
        "                  pos_6[0] = pos_6[0] + step\n",
        "\n",
        "\n",
        "                elif abs(dis_y) > abs(dis_x):\n",
        "                  step = dis_y/abs(dis_y)\n",
        "                  pos_6[1] = pos_6[1] + step\n",
        "\n",
        "              print(\"7\",pos_6)\n",
        "\n",
        "            #----------------------------------------------------------\n",
        "\n",
        "              dis_x = pos_6[0] - pos_7[0]\n",
        "              dis_y = pos_6[1] - pos_7[1]\n",
        "\n",
        "              z = (dis_x)**2 + (dis_y)**2\n",
        "              dis = np.sqrt(z)\n",
        "              dis_r = round(dis,0)\n",
        "\n",
        "              if dis_r > 1:\n",
        "                if dis - dis_r != 0:\n",
        "                  pos_7[0] = pos_7[0] + dis_x/abs(dis_x)\n",
        "                  pos_7[1] = pos_7[1] + dis_y/abs(dis_y)\n",
        "                  dis_r += -1\n",
        "\n",
        "\n",
        "                for i in np.r_[1:dis_r]: \n",
        "                  if abs(dis_x) > abs(dis_y):\n",
        "                    step = dis_x/abs(dis_x)\n",
        "                    pos_7[0] = pos_7[0] + step\n",
        "\n",
        "\n",
        "                  elif abs(dis_y) > abs(dis_x):\n",
        "                    step = dis_y/abs(dis_y)\n",
        "                    pos_7[1] = pos_7[1] + step\n",
        "\n",
        "                print(\"8\",pos_7)\n",
        "\n",
        "              #----------------------------------------------------------\n",
        "\n",
        "                dis_x = pos_7[0] - pos_8[0]\n",
        "                dis_y = pos_7[1] - pos_8[1]\n",
        "\n",
        "                z = (dis_x)**2 + (dis_y)**2\n",
        "                dis = np.sqrt(z)\n",
        "                dis_r = round(dis,0)\n",
        "\n",
        "                if dis_r > 1:\n",
        "                  if dis - dis_r != 0:\n",
        "                    pos_8[0] = pos_8[0] + dis_x/abs(dis_x)\n",
        "                    pos_8[1] = pos_8[1] + dis_y/abs(dis_y)\n",
        "                    dis_r += -1\n",
        "\n",
        "\n",
        "                  for i in np.r_[1:dis_r]: \n",
        "                    if abs(dis_x) > abs(dis_y):\n",
        "                      step = dis_x/abs(dis_x)\n",
        "                      pos_8[0] = pos_8[0] + step\n",
        "\n",
        "\n",
        "                    elif abs(dis_y) > abs(dis_x):\n",
        "                      step = dis_y/abs(dis_y)\n",
        "                      pos_8[1] = pos_8[1] + step\n",
        "\n",
        "                  print(\"9\",pos_8)\n",
        "\n",
        "                #----------------------------------------------------------\n",
        "\n",
        "                  dis_x = pos_8[0] - pos_t[0]\n",
        "                  dis_y = pos_8[1] - pos_t[1]\n",
        "\n",
        "                  z = (dis_x)**2 + (dis_y)**2\n",
        "                  dis = np.sqrt(z)\n",
        "                  dis_r = round(dis,0)\n",
        "\n",
        "                  if dis_r > 1:\n",
        "                    if dis - dis_r != 0:\n",
        "                      pos_t[0] = pos_t[0] + dis_x/abs(dis_x)\n",
        "                      pos_t[1] = pos_t[1] + dis_y/abs(dis_y)\n",
        "                      dis_r += -1\n",
        "                      all_t_pos.append(pos_t[:])\n",
        "\n",
        "                    for i in np.r_[1:dis_r]: \n",
        "                      if abs(dis_x) > abs(dis_y):\n",
        "                        step = dis_x/abs(dis_x)\n",
        "                        pos_t[0] = pos_t[0] + step\n",
        "                        all_t_pos.append(pos_t[:])\n",
        "\n",
        "                      elif abs(dis_y) > abs(dis_x):\n",
        "                        step = dis_y/abs(dis_y)\n",
        "                        pos_t[1] = pos_t[1] + step\n",
        "                        all_t_pos.append(pos_t[:])\n",
        "                      \n",
        "                  print(\"10\",pos_t)"
      ],
      "metadata": {
        "id": "xqnfSYc0hXz3"
      },
      "execution_count": null,
      "outputs": []
    },
    {
      "cell_type": "code",
      "source": [
        "all_t_uni = []\n",
        "\n",
        "for k in all_t_pos:\n",
        "\n",
        "  if k not in all_t_uni:\n",
        "    all_t_uni.append(k)"
      ],
      "metadata": {
        "id": "khHLUMXKlewW"
      },
      "execution_count": null,
      "outputs": []
    },
    {
      "cell_type": "code",
      "source": [
        "len(all_t_uni)"
      ],
      "metadata": {
        "colab": {
          "base_uri": "https://localhost:8080/"
        },
        "id": "02DQ0m_ilgt_",
        "outputId": "2c9ba483-b3cd-4380-e4fd-444670494c99"
      },
      "execution_count": null,
      "outputs": [
        {
          "output_type": "execute_result",
          "data": {
            "text/plain": [
              "2917"
            ]
          },
          "metadata": {},
          "execution_count": 43
        }
      ]
    }
  ]
}
